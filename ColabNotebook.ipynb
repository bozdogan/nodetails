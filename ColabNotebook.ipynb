{
  "nbformat": 4,
  "nbformat_minor": 0,
  "metadata": {
    "colab": {
      "name": "ColabNotebook.ipynb",
      "provenance": [],
      "collapsed_sections": [],
      "authorship_tag": "ABX9TyOc5qKxr/CA3WvlQEVNqeCz"
    },
    "kernelspec": {
      "name": "python3",
      "display_name": "Python 3"
    },
    "language_info": {
      "name": "python"
    }
  },
  "cells": [
    {
      "cell_type": "markdown",
      "metadata": {
        "id": "gpxkriF4f6qP"
      },
      "source": [
        "BU HUZURSUZLUK\n",
        "==============\n",
        "\n",
        "BU HUZURSUZLUK MEYVESİNİ  \n",
        "VERMELİ ARTIK\n"
      ]
    },
    {
      "cell_type": "code",
      "metadata": {
        "colab": {
          "base_uri": "https://localhost:8080/"
        },
        "id": "L7Ow3r-ahKyM",
        "outputId": "d3a33605-c0ed-4930-b68a-3affe57784c8"
      },
      "source": [
        "import os\n",
        "os.listdir(\"/content/sample_data\")"
      ],
      "execution_count": null,
      "outputs": [
        {
          "output_type": "execute_result",
          "data": {
            "text/plain": [
              "['README.md',\n",
              " 'anscombe.json',\n",
              " 'california_housing_test.csv',\n",
              " 'california_housing_train.csv',\n",
              " 'mnist_test.csv',\n",
              " 'mnist_train_small.csv']"
            ]
          },
          "metadata": {
            "tags": []
          },
          "execution_count": 3
        }
      ]
    },
    {
      "cell_type": "code",
      "metadata": {
        "colab": {
          "base_uri": "https://localhost:8080/"
        },
        "id": "BzVVe2keicHY",
        "outputId": "4ad8a2ee-a300-4453-d598-0e31214b7a13"
      },
      "source": [
        "from google.colab import drive\n",
        "drive.mount('/content/gdrive')"
      ],
      "execution_count": null,
      "outputs": [
        {
          "output_type": "stream",
          "text": [
            "Mounted at /content/gdrive\n"
          ],
          "name": "stdout"
        }
      ]
    },
    {
      "cell_type": "code",
      "metadata": {
        "id": "ZJZTgoVYiuOq"
      },
      "source": [
        "import numpy as np\n",
        "import matplotlib.pyplot as plt\n",
        "import tensorflow as tf\n",
        "import tensorflow_datasets as tfds\n",
        "\n",
        "gigaword = tfds.load(\"gigaword\")"
      ],
      "execution_count": 4,
      "outputs": []
    },
    {
      "cell_type": "code",
      "metadata": {
        "id": "tioPaqfip2-O",
        "outputId": "d253af32-399d-432e-c383-28c774db2110",
        "colab": {
          "base_uri": "https://localhost:8080/"
        }
      },
      "source": [
        "gigaword"
      ],
      "execution_count": 9,
      "outputs": [
        {
          "output_type": "execute_result",
          "data": {
            "text/plain": [
              "{'test': <PrefetchDataset shapes: {document: (), summary: ()}, types: {document: tf.string, summary: tf.string}>,\n",
              " 'train': <PrefetchDataset shapes: {document: (), summary: ()}, types: {document: tf.string, summary: tf.string}>,\n",
              " 'validation': <PrefetchDataset shapes: {document: (), summary: ()}, types: {document: tf.string, summary: tf.string}>}"
            ]
          },
          "metadata": {
            "tags": []
          },
          "execution_count": 9
        }
      ]
    }
  ]
}